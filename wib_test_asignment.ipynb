{
 "cells": [
  {
   "cell_type": "markdown",
   "id": "101c4e88",
   "metadata": {},
   "source": [
    "# **Часть 1. Создание базы данных**\n",
    "## *1000 уникальных покупателей, 1000 уникальных покупок, 1000 разных дат, 100 уникальных товаров*"
   ]
  },
  {
   "cell_type": "code",
   "execution_count": 345,
   "id": "15b42f36",
   "metadata": {},
   "outputs": [],
   "source": [
    "# 1. Импорт библиотек\n",
    "import sqlite3\n",
    "import random\n",
    "from random import randrange\n",
    "from datetime import timedelta\n",
    "from datetime import datetime\n",
    "import numpy as np"
   ]
  },
  {
   "cell_type": "code",
   "execution_count": 335,
   "id": "124e179d",
   "metadata": {},
   "outputs": [],
   "source": [
    "# 2. Cоздание соединения и объекта \"курсор\"\n",
    "connection = sqlite3.connect(\"wib_test.db\")\n",
    "cursor = connection.cursor()"
   ]
  },
  {
   "cell_type": "code",
   "execution_count": 336,
   "id": "2517281f",
   "metadata": {},
   "outputs": [
    {
     "data": {
      "text/plain": [
       "<sqlite3.Cursor at 0x1d313702e30>"
      ]
     },
     "execution_count": 336,
     "metadata": {},
     "output_type": "execute_result"
    }
   ],
   "source": [
    "# 3. Добавление пустых таблиц: Users, Purchases, Items согласно ТЗ\n",
    "cursor.execute (\"CREATE TABLE Users (userId INTEGER PRIMARY KEY, age INTEGER)\")\n",
    "cursor.execute (\"CREATE TABLE Purchases (userId INTEGER PRIMARY KEY, purchaseId INTEGER UNIQUE, itemId INTEGER, date TEXT NOT NULL)\")\n",
    "cursor.execute (\"CREATE TABLE Items (itemId INTEGER PRIMARY KEY, price FLOAT NOT NULL)\")"
   ]
  },
  {
   "cell_type": "code",
   "execution_count": 337,
   "id": "5f8a1b51",
   "metadata": {},
   "outputs": [],
   "source": [
    "# 4. Создание списка 1000 уникальных id\n",
    "def gen_random_numbers_in_range(low, high, n):\n",
    "    return random.sample(range(low, high), n)\n",
    "rand_list_id = gen_random_numbers_in_range(1000, 2000, 1000)"
   ]
  },
  {
   "cell_type": "code",
   "execution_count": 338,
   "id": "f1ce1995",
   "metadata": {},
   "outputs": [],
   "source": [
    "# 5. Создание списка 1000 людей возрастом от 18 до 65\n",
    "rand_list_age=[]\n",
    "n=1000\n",
    "for i in range(n):\n",
    "    rand_list_age.append(random.randint(18,65)) "
   ]
  },
  {
   "cell_type": "code",
   "execution_count": 339,
   "id": "471c776a",
   "metadata": {},
   "outputs": [],
   "source": [
    "# 6. Создание запроса на вставку значений в таблицу Users путем итерации по спискам выше:\n",
    "query = \"INSERT INTO Users (userId, age) VALUES (?,?);\"\n",
    "for userId, age in zip(rand_list_id, rand_list_age):\n",
    "    cursor.execute(query,(userId, age))\n",
    "connection.commit()"
   ]
  },
  {
   "cell_type": "code",
   "execution_count": 351,
   "id": "17322579",
   "metadata": {},
   "outputs": [
    {
     "data": {
      "text/plain": [
       "[(1000, 40),\n",
       " (1001, 28),\n",
       " (1002, 63),\n",
       " (1003, 25),\n",
       " (1004, 21),\n",
       " (1005, 58),\n",
       " (1006, 52),\n",
       " (1007, 24),\n",
       " (1008, 23),\n",
       " (1009, 62)]"
      ]
     },
     "execution_count": 351,
     "metadata": {},
     "output_type": "execute_result"
    }
   ],
   "source": [
    "# 7. Просмотр шапки полученной таблицы\n",
    "cursor.execute (\"SELECT * FROM Users LIMIT 10;\").fetchall()"
   ]
  },
  {
   "cell_type": "code",
   "execution_count": 341,
   "id": "1eec35d2",
   "metadata": {},
   "outputs": [],
   "source": [
    "# 8. Создание списка 1000 уникальных id покупок\n",
    "purchase_id_list = random.sample(range(1, 1001), 1000)"
   ]
  },
  {
   "cell_type": "code",
   "execution_count": 342,
   "id": "dc1ff363",
   "metadata": {},
   "outputs": [],
   "source": [
    "# 9. Создание списка 1000 единиц товаров из 100 уникальных товаров\n",
    "itemId_list=[]\n",
    "n=1000\n",
    "for i in range(n):\n",
    "    itemId_list.append(random.randint(1,100)) "
   ]
  },
  {
   "cell_type": "code",
   "execution_count": 346,
   "id": "3fb2f37a",
   "metadata": {},
   "outputs": [],
   "source": [
    "# 10. Создание списка 1000 уникальных дат\n",
    "\n",
    "def random_date(start, end):\n",
    "    delta = end - start\n",
    "    int_delta = (delta.days * 24 * 60 * 60) + delta.seconds\n",
    "    random_second = randrange(int_delta)\n",
    "    return start + timedelta(seconds=random_second)\n",
    "\n",
    "d1 = datetime.strptime('1/1/2020 1:30 PM', '%m/%d/%Y %I:%M %p')\n",
    "d2 = datetime.strptime('11/18/2022 4:50 AM', '%m/%d/%Y %I:%M %p')\n",
    "\n",
    "date_list = []\n",
    "n = 1000\n",
    "for i in range (n):\n",
    "    date_list.append(random_date(d1, d2))"
   ]
  },
  {
   "cell_type": "code",
   "execution_count": 347,
   "id": "d171cbe7",
   "metadata": {},
   "outputs": [],
   "source": [
    "# 11. Cоздание запроса на вставку значений в таблицу Purchases путем итерации по 4-м спискам выше:\n",
    "query = \"INSERT INTO Purchases (userId, purchaseId, itemId, date) VALUES (?,?,?,?);\"\n",
    "for userId, purchaseId, itemId, date in zip(rand_list_id, purchase_id_list, itemId_list, date_list):\n",
    "    cursor.execute(query,(userId, purchaseId, itemId, date))\n",
    "connection.commit()"
   ]
  },
  {
   "cell_type": "code",
   "execution_count": 352,
   "id": "e4eb7f37",
   "metadata": {},
   "outputs": [
    {
     "data": {
      "text/plain": [
       "[(1000, 779, 21, '2021-05-07 19:17:12'),\n",
       " (1001, 871, 78, '2022-08-30 01:08:04'),\n",
       " (1002, 969, 36, '2021-05-26 11:52:25'),\n",
       " (1003, 341, 24, '2020-12-16 18:18:09'),\n",
       " (1004, 642, 90, '2020-06-23 23:45:51'),\n",
       " (1005, 210, 20, '2021-09-02 16:20:24'),\n",
       " (1006, 701, 20, '2020-02-17 07:12:43'),\n",
       " (1007, 438, 2, '2021-07-30 00:19:42'),\n",
       " (1008, 92, 40, '2022-08-15 19:48:05'),\n",
       " (1009, 878, 91, '2021-09-04 02:12:18')]"
      ]
     },
     "execution_count": 352,
     "metadata": {},
     "output_type": "execute_result"
    }
   ],
   "source": [
    "# 12. Просмотр шапки полученной таблицы\n",
    "cursor.execute (\"SELECT * FROM Purchases LIMIT 10;\").fetchall()"
   ]
  },
  {
   "cell_type": "code",
   "execution_count": 353,
   "id": "c41dca2d",
   "metadata": {},
   "outputs": [],
   "source": [
    "# 13. Создание 100 уникальных товаров\n",
    "itemId_list_uniq=list(range(1,101))"
   ]
  },
  {
   "cell_type": "code",
   "execution_count": 354,
   "id": "5d95092c",
   "metadata": {},
   "outputs": [],
   "source": [
    "# 14. Создание списка цен для 100 товаров\n",
    "price_list=[]\n",
    "n=100\n",
    "for i in range(n):\n",
    "    price_list.append(round(random.uniform(10.0,100.0),2))"
   ]
  },
  {
   "cell_type": "code",
   "execution_count": 355,
   "id": "11a81d8a",
   "metadata": {},
   "outputs": [],
   "source": [
    "# 15. Cоздание запроса на вставку значений в таблицу Items путем итерации по 2-м спискам выше:\n",
    "query = \"INSERT INTO Items (itemId, price) VALUES (?,?);\"\n",
    "for itemId, price in zip(itemId_list_uniq, price_list):\n",
    "    cursor.execute(query,(itemId, price))\n",
    "connection.commit()"
   ]
  },
  {
   "cell_type": "code",
   "execution_count": 356,
   "id": "e2d615c3",
   "metadata": {},
   "outputs": [
    {
     "data": {
      "text/plain": [
       "[(1, 69.46),\n",
       " (2, 67.13),\n",
       " (3, 36.53),\n",
       " (4, 55.52),\n",
       " (5, 22.3),\n",
       " (6, 72.65),\n",
       " (7, 15.25),\n",
       " (8, 55.35),\n",
       " (9, 59.93),\n",
       " (10, 35.96)]"
      ]
     },
     "execution_count": 356,
     "metadata": {},
     "output_type": "execute_result"
    }
   ],
   "source": [
    "# 16. Просмотр шапки полученной таблицы\n",
    "cursor.execute (\"SELECT * FROM Items LIMIT 10;\").fetchall()"
   ]
  },
  {
   "cell_type": "markdown",
   "id": "c3b0cf7b",
   "metadata": {},
   "source": [
    "# **Часть 2. Выполнение анализа базы данных согласно заданию**"
   ]
  },
  {
   "cell_type": "code",
   "execution_count": 357,
   "id": "b5f9c486",
   "metadata": {},
   "outputs": [
    {
     "data": {
      "text/plain": [
       "[(\"2021'12\", 81.8),\n",
       " (\"2020'07\", 79.5),\n",
       " (\"2021'11\", 72.48),\n",
       " (\"2020'04\", 72.22),\n",
       " (\"2021'06\", 67.4),\n",
       " (\"2020'10\", 67.25),\n",
       " (\"2020'06\", 67.09),\n",
       " (\"2022'05\", 66.53),\n",
       " (\"2022'06\", 66.52),\n",
       " (\"2021'08\", 66.14),\n",
       " (\"2021'05\", 63.95),\n",
       " (\"2022'02\", 62.09),\n",
       " (\"2022'04\", 61.47),\n",
       " (\"2022'10\", 61.2),\n",
       " (\"2022'07\", 60.73),\n",
       " (\"2022'03\", 59.26),\n",
       " (\"2021'09\", 58.92),\n",
       " (\"2020'12\", 58.44),\n",
       " (\"2021'02\", 57.39),\n",
       " (\"2020'03\", 56.05),\n",
       " (\"2020'01\", 55.89),\n",
       " (\"2021'07\", 55.86),\n",
       " (\"2020'02\", 54.82),\n",
       " (\"2022'11\", 54.81),\n",
       " (\"2020'09\", 53.33),\n",
       " (\"2022'08\", 52.36),\n",
       " (\"2021'04\", 50.53),\n",
       " (\"2021'03\", 46.59),\n",
       " (\"2022'09\", 46.47),\n",
       " (\"2022'01\", 46.03),\n",
       " (\"2021'10\", 45.71),\n",
       " (\"2020'11\", 36.19),\n",
       " (\"2021'01\", 33.8),\n",
       " (\"2020'05\", 33.33),\n",
       " (\"2020'08\", 25.01)]"
      ]
     },
     "execution_count": 357,
     "metadata": {},
     "output_type": "execute_result"
    }
   ],
   "source": [
    "# А) какую сумму в среднем в месяц тратит:\n",
    "# - пользователи в возрастном диапазоне от 18 до 25 лет включительно\n",
    "cursor.execute ('''WITH first_query AS (\n",
    "                SELECT *\n",
    "                FROM Purchases\n",
    "                LEFT JOIN Users\n",
    "                    ON Purchases.userId = Users.userId\n",
    "                ), \n",
    "                second_query AS (\n",
    "                SELECT *\n",
    "                FROM first_query\n",
    "                LEFT JOIN Items\n",
    "                    ON first_query.itemId = Items.itemId\n",
    "                )\n",
    "                SELECT strftime ('%Y''%m', date) AS 'Month and year', ROUND (AVG (price),2) AS 'Average Price'\n",
    "                FROM second_query\n",
    "                WHERE age >= 18 AND age <= 25\n",
    "                GROUP BY 1\n",
    "                ORDER BY 2 DESC;''').fetchall()"
   ]
  },
  {
   "cell_type": "code",
   "execution_count": 358,
   "id": "587784e0",
   "metadata": {},
   "outputs": [
    {
     "data": {
      "text/plain": [
       "[(\"2021'04\", 77.5),\n",
       " (\"2022'10\", 75.37),\n",
       " (\"2021'12\", 75.23),\n",
       " (\"2022'07\", 71.35),\n",
       " (\"2021'02\", 70.13),\n",
       " (\"2020'11\", 67.62),\n",
       " (\"2020'02\", 67.55),\n",
       " (\"2022'01\", 66.2),\n",
       " (\"2022'08\", 64.96),\n",
       " (\"2020'08\", 64.81),\n",
       " (\"2021'08\", 63.67),\n",
       " (\"2021'11\", 60.85),\n",
       " (\"2020'01\", 59.5),\n",
       " (\"2021'09\", 59.18),\n",
       " (\"2021'10\", 59.15),\n",
       " (\"2021'01\", 58.99),\n",
       " (\"2022'04\", 57.03),\n",
       " (\"2022'05\", 56.69),\n",
       " (\"2020'09\", 56.55),\n",
       " (\"2020'04\", 56.35),\n",
       " (\"2021'03\", 56.09),\n",
       " (\"2020'10\", 55.23),\n",
       " (\"2021'06\", 54.77),\n",
       " (\"2022'03\", 52.66),\n",
       " (\"2020'05\", 51.38),\n",
       " (\"2022'06\", 50.6),\n",
       " (\"2021'05\", 48.28),\n",
       " (\"2022'02\", 46.08),\n",
       " (\"2020'03\", 43.89),\n",
       " (\"2020'07\", 42.43),\n",
       " (\"2021'07\", 41.9),\n",
       " (\"2022'11\", 41.86),\n",
       " (\"2022'09\", 39.82),\n",
       " (\"2020'06\", 38.78)]"
      ]
     },
     "execution_count": 358,
     "metadata": {},
     "output_type": "execute_result"
    }
   ],
   "source": [
    "# - пользователи в возрастном диапазоне от 26 до 35 лет включительно\n",
    "cursor.execute ('''WITH first_query AS (\n",
    "                SELECT *\n",
    "                FROM Purchases\n",
    "                LEFT JOIN Users\n",
    "                    ON Purchases.userId = Users.userId\n",
    "                ), \n",
    "                second_query AS (\n",
    "                SELECT *\n",
    "                FROM first_query\n",
    "                LEFT JOIN Items\n",
    "                    ON first_query.itemId = Items.itemId\n",
    "                )\n",
    "                SELECT strftime ('%Y''%m', date) AS 'Month and year', ROUND (AVG (price),2) AS 'Average Price'\n",
    "                FROM second_query\n",
    "                WHERE age >= 26 AND age <= 35\n",
    "                GROUP BY 1\n",
    "                ORDER BY 2 DESC;''').fetchall()"
   ]
  },
  {
   "cell_type": "code",
   "execution_count": 359,
   "id": "9ac20724",
   "metadata": {},
   "outputs": [
    {
     "data": {
      "text/plain": [
       "(\"2021'02\", 1726.61)"
      ]
     },
     "execution_count": 359,
     "metadata": {},
     "output_type": "execute_result"
    }
   ],
   "source": [
    "# Б) в каком месяце года выручка от пользователей в возрастном диапазоне 35+ самая большая\n",
    "cursor.execute ('''WITH first_query AS (\n",
    "                SELECT *\n",
    "                FROM Purchases\n",
    "                LEFT JOIN Users\n",
    "                    ON Purchases.userId = Users.userId\n",
    "                ), \n",
    "                second_query AS (\n",
    "                SELECT *\n",
    "                FROM first_query\n",
    "                LEFT JOIN Items\n",
    "                    ON first_query.itemId = Items.itemId\n",
    "                )\n",
    "                SELECT strftime ('%Y''%m', date) AS 'Month and year', ROUND (SUM(price), 2) AS 'Total Revenue'\n",
    "                FROM second_query\n",
    "                WHERE age >= 35\n",
    "                GROUP BY 1\n",
    "                ORDER BY 2 DESC;''').fetchone()"
   ]
  },
  {
   "cell_type": "code",
   "execution_count": 360,
   "id": "11714f73",
   "metadata": {},
   "outputs": [
    {
     "data": {
      "text/plain": [
       "(15, 638.48, '2022')"
      ]
     },
     "execution_count": 360,
     "metadata": {},
     "output_type": "execute_result"
    }
   ],
   "source": [
    "# В) какой товар обеспечивает наибольший вклад в выручку за последний год\n",
    "cursor.execute ('''WITH first_query AS (\n",
    "                SELECT *\n",
    "                FROM Purchases\n",
    "                LEFT JOIN Users\n",
    "                    ON Purchases.userId = Users.userId\n",
    "                ), \n",
    "                second_query AS (\n",
    "                SELECT *\n",
    "                FROM first_query\n",
    "                LEFT JOIN Items\n",
    "                    ON first_query.itemId = Items.itemId\n",
    "                )\n",
    "                SELECT itemId, ROUND(SUM (price), 2) AS total_revenue_by_item, strftime ('%Y', date) AS year\n",
    "                FROM second_query\n",
    "                WHERE year = '2022'\n",
    "                GROUP BY itemId\n",
    "                ORDER BY 2 DESC;''').fetchone()"
   ]
  },
  {
   "cell_type": "code",
   "execution_count": 362,
   "id": "6c831b30",
   "metadata": {},
   "outputs": [
    {
     "data": {
      "text/plain": [
       "[(56, 579.12, 2.77, '2021'),\n",
       " (48, 569.34, 2.72, '2021'),\n",
       " (65, 566.64, 2.71, '2021')]"
      ]
     },
     "execution_count": 362,
     "metadata": {},
     "output_type": "execute_result"
    }
   ],
   "source": [
    "# Г) топ-3 товаров по выручке и их доля в общей выручке за любой год\n",
    "cursor.execute ('''WITH first_query AS (\n",
    "                SELECT *\n",
    "                FROM Purchases\n",
    "                LEFT JOIN Users\n",
    "                    ON Purchases.userId = Users.userId\n",
    "                ), \n",
    "                second_query AS (\n",
    "                SELECT *\n",
    "                FROM first_query\n",
    "                LEFT JOIN Items\n",
    "                    ON first_query.itemId = Items.itemId\n",
    "                ),\n",
    "                third_query AS (\n",
    "                SELECT itemId, ROUND(SUM (price), 2) AS total_revenue_by_item, strftime ('%Y', date) AS year\n",
    "                FROM second_query\n",
    "                WHERE year = '2021'\n",
    "                GROUP BY itemId\n",
    "                ORDER BY 2 DESC\n",
    "                )\n",
    "                SELECT itemId, total_revenue_by_item, ROUND(total_revenue_by_item * 100 / (SELECT SUM(total_revenue_by_item) AS sum FROM third_query), 2) AS share, year\n",
    "                FROM third_query;''').fetchmany(3)"
   ]
  },
  {
   "cell_type": "code",
   "execution_count": 363,
   "id": "5874c64a",
   "metadata": {},
   "outputs": [],
   "source": [
    "# сохраняем изменения в БД и закрываем соединение\n",
    "cursor.close()\n",
    "connection.commit()\n",
    "connection.close()"
   ]
  }
 ],
 "metadata": {
  "kernelspec": {
   "display_name": "Python 3 (ipykernel)",
   "language": "python",
   "name": "python3"
  },
  "language_info": {
   "codemirror_mode": {
    "name": "ipython",
    "version": 3
   },
   "file_extension": ".py",
   "mimetype": "text/x-python",
   "name": "python",
   "nbconvert_exporter": "python",
   "pygments_lexer": "ipython3",
   "version": "3.9.7"
  }
 },
 "nbformat": 4,
 "nbformat_minor": 5
}
